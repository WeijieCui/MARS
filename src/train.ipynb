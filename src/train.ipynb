{
  "cells": [
    {
      "cell_type": "markdown",
      "id": "251d3736f5b9be4e",
      "metadata": {
        "collapsed": false,
        "id": "251d3736f5b9be4e",
        "jupyter": {
          "outputs_hidden": false
        }
      },
      "source": [
        "<a href=\"https://colab.research.google.com/github/UoR-Vision/VisualDota/blob/main/src/main.ipynb\" target=\"_parent\"><img src=\"https://colab.research.google.com/assets/colab-badge.svg\" alt=\"Open In Colab\"/></a>"
      ]
    },
    {
      "cell_type": "raw",
      "id": "6b21c1234e2df588",
      "metadata": {
        "collapsed": false,
        "id": "6b21c1234e2df588",
        "jupyter": {
          "outputs_hidden": false
        }
      },
      "source": [
        "Module Code:  CSMPR\n",
        "\n",
        "Report Title: MARS"
      ]
    },
    {
      "cell_type": "markdown",
      "id": "C3IMFqsWmI85",
      "metadata": {
        "id": "C3IMFqsWmI85"
      },
      "source": [
        "# Environment Setting"
      ]
    },
    {
      "cell_type": "markdown",
      "id": "kJTbQqpTp9RI",
      "metadata": {
        "id": "kJTbQqpTp9RI"
      },
      "source": [
        "## Install Required Packages"
      ]
    },
    {
      "cell_type": "code",
      "execution_count": null,
      "id": "1c0018c8-e5af-4ad4-9856-30f259c82bcd",
      "metadata": {
        "id": "1c0018c8-e5af-4ad4-9856-30f259c82bcd"
      },
      "outputs": [],
      "source": [
        "!pip install importlib ultralytics torch torchvision shapely gradio gradio_client"
      ]
    },
    {
      "cell_type": "markdown",
      "id": "bc841ed043ba5470",
      "metadata": {
        "collapsed": false,
        "id": "bc841ed043ba5470",
        "jupyter": {
          "outputs_hidden": false
        }
      },
      "source": [
        "***\n",
        "<a id=\"import\"></a>\n",
        "## Import libraries\n",
        "\n",
        "To import the required libraries for whole project."
      ]
    },
    {
      "cell_type": "code",
      "execution_count": 2,
      "id": "ae09c6165ced97ec",
      "metadata": {
        "colab": {
          "base_uri": "https://localhost:8080/"
        },
        "id": "ae09c6165ced97ec",
        "outputId": "46a8acfc-5c7b-4d6f-8153-147fde179df3"
      },
      "outputs": [
        {
          "output_type": "stream",
          "name": "stdout",
          "text": [
            "matplotlib: 3.10.0, numpy: 2.0.2, pandas: 2.2.2\n",
            "torch: 2.8.0+cu126, torchvision: 0.23.0+cu126, ultralytics: 8.3.202\n",
            "device: cuda\n"
          ]
        }
      ],
      "source": [
        "# import the build-in required libraries\n",
        "from collections import Counter, defaultdict\n",
        "import os\n",
        "import time\n",
        "import logging\n",
        "\n",
        "# import the third-part required libraries\n",
        "import cv2\n",
        "import importlib\n",
        "import matplotlib\n",
        "import matplotlib.pyplot as plt\n",
        "import numpy as np\n",
        "import pandas as pd\n",
        "import torch\n",
        "import torch.nn as nn\n",
        "from torch.utils.data import DataLoader\n",
        "from torch.utils.data import Dataset\n",
        "import torchvision\n",
        "import ultralytics\n",
        "from zipfile import ZipFile\n",
        "from ultralytics.utils import SETTINGS\n",
        "\n",
        "os.environ['GLOG_minloglevel'] = '3'\n",
        "logging.disable(logging.CRITICAL)\n",
        "\n",
        "# 修改全局设置\n",
        "SETTINGS.update({\n",
        "    \"datasets_dir\": \"\",\n",
        "})\n",
        "\n",
        "\n",
        "# check the versions of third-part libraries\n",
        "print(f'matplotlib: {matplotlib.__version__}, numpy: {np.__version__}, pandas: {pd.__version__}')\n",
        "print(f'torch: {torch.__version__}, torchvision: {torchvision.__version__}, ultralytics: {ultralytics.__version__}')\n",
        "\n",
        "# check environment\n",
        "device = torch.device('cuda') if torch.cuda.is_available() else torch.device('cpu')\n",
        "print(f'device: {device}')"
      ]
    },
    {
      "cell_type": "markdown",
      "id": "-_V307WVj3zz",
      "metadata": {
        "collapsed": false,
        "id": "-_V307WVj3zz",
        "jupyter": {
          "outputs_hidden": false
        }
      },
      "source": [
        "***\n",
        "<a id=\"colab\"></a>\n",
        "## Adapting to the Colab Operating Environment\n",
        "\n",
        "In Colab environment, it is neccessary to download the whole project from Github."
      ]
    },
    {
      "cell_type": "code",
      "execution_count": 3,
      "id": "WgPXbYDBj_u-",
      "metadata": {
        "colab": {
          "base_uri": "https://localhost:8080/"
        },
        "id": "WgPXbYDBj_u-",
        "outputId": "a4478b1d-9520-43e1-9eb4-0c1e4a18d8d4"
      },
      "outputs": [
        {
          "output_type": "stream",
          "name": "stdout",
          "text": [
            "Running in Google Colab and using Google Drive.\n",
            "Cloning into 'MARS'...\n",
            "remote: Enumerating objects: 535, done.\u001b[K\n",
            "remote: Counting objects: 100% (20/20), done.\u001b[K\n",
            "remote: Compressing objects: 100% (17/17), done.\u001b[K\n",
            "remote: Total 535 (delta 5), reused 4 (delta 3), pack-reused 515 (from 3)\u001b[K\n",
            "Receiving objects: 100% (535/535), 516.31 MiB | 30.34 MiB/s, done.\n",
            "Resolving deltas: 100% (167/167), done.\n",
            "Updating files: 100% (221/221), done.\n",
            "/content/MARS/src\n",
            "Do you want to use Google Drive? If so, please make sure you have prepared the dataset and models appropriately.\n",
            "Use Google Drive: Y/N: y\n",
            "Drive already mounted at /content/drive; to attempt to forcibly remount, call drive.mount(\"/content/drive\", force_remount=True).\n"
          ]
        }
      ],
      "source": [
        "def is_colab():\n",
        "    try:\n",
        "        import google.colab\n",
        "        return True\n",
        "    except ImportError:\n",
        "        return False\n",
        "\n",
        "\n",
        "if is_colab():\n",
        "    print('Running in Google Colab and using Google Drive.')\n",
        "    !git clone \"https://github.com/WeijieCui/MARS.git\" -b main\n",
        "    %cd MARS/src\n",
        "    used_drive = bool(input(\"Do you want to use Google Drive? If so, \"\n",
        "    \"please make sure you have prepared the dataset and models appropriately.\\n\"\n",
        "    \"Use Google Drive: Y/N: \").lower() == 'y')\n",
        "    if used_drive:\n",
        "      try:\n",
        "          from google.colab import drive\n",
        "          drive.mount('/content/drive')\n",
        "          DATASET_ROOT_DIR = '/content/drive/MyDrive/MARS/DOTA'\n",
        "          MODEL_ROOT_DIR = '/content/drive/MyDrive/MARS/models'\n",
        "      except ImportError as e:\n",
        "          print(f'failed to import google package: {e.msg}')\n",
        "          DATASET_ROOT_DIR = './data'\n",
        "          MODEL_ROOT_DIR = '../models'\n",
        "    else:\n",
        "      print('Running locally.')\n",
        "      DATASET_ROOT_DIR = '../data'\n",
        "      MODEL_ROOT_DIR = '../models'\n",
        "\n",
        "else:\n",
        "    print('Not running in Colab.')\n",
        "    DATASET_ROOT_DIR = '../data'\n",
        "    MODEL_ROOT_DIR = '../models'"
      ]
    },
    {
      "cell_type": "code",
      "execution_count": 4,
      "id": "cd542eb229a41a08",
      "metadata": {
        "jupyter": {
          "outputs_hidden": false
        },
        "id": "cd542eb229a41a08"
      },
      "outputs": [],
      "source": [
        "train_image_dir = os.path.join(DATASET_ROOT_DIR, 'train', 'images')\n",
        "train_label_dir = os.path.join(DATASET_ROOT_DIR, 'train', 'labelTxt')"
      ]
    },
    {
      "cell_type": "markdown",
      "id": "37ad3286b62586b",
      "metadata": {
        "collapsed": false,
        "id": "37ad3286b62586b",
        "jupyter": {
          "outputs_hidden": false
        }
      },
      "source": [
        "***\n",
        "<a id=\"hotload\"></a>\n",
        "## Hot Loading .py File\n",
        "\n",
        "Here is to import custom .py file. It can be hot-loaded, just re-run the following cell.\n",
        "\n",
        "Documentation comments are provided for each public function. To check the comments please use the help() function."
      ]
    },
    {
      "cell_type": "code",
      "execution_count": 5,
      "id": "f66f6ad8b458fed7",
      "metadata": {
        "ExecuteTime": {
          "end_time": "2025-09-17T13:53:47.789510600Z",
          "start_time": "2025-09-17T13:53:46.868630400Z"
        },
        "id": "f66f6ad8b458fed7"
      },
      "outputs": [],
      "source": [
        "try:\n",
        "    import data_validation\n",
        "    import detector\n",
        "    import agent\n",
        "    import rl_model  # import data loader for data training\n",
        "except ModuleNotFoundError as e:\n",
        "    print(f'[ERROR] fail to import a custom module at path: {os.path.abspath(\".\")}, msg: {e}.')\n",
        "except Exception as e:\n",
        "    print(f'[ERROR] fail to read module at path: {os.path.abspath(\".\")}, msg: {e}')\n",
        "else:\n",
        "    # Hot loading python files\n",
        "    importlib.reload(detector)\n",
        "    importlib.reload(data_validation)\n",
        "    importlib.reload(agent)\n",
        "    importlib.reload(rl_model)"
      ]
    },
    {
      "cell_type": "markdown",
      "id": "PUV2v_YRWLDR",
      "metadata": {
        "id": "PUV2v_YRWLDR"
      },
      "source": [
        "# 2 Exploratory data analysis"
      ]
    },
    {
      "cell_type": "markdown",
      "id": "PqS5O9mcqM6s",
      "metadata": {
        "id": "PqS5O9mcqM6s"
      },
      "source": [
        "## 2.1 Object Category Distribution"
      ]
    },
    {
      "cell_type": "code",
      "execution_count": 6,
      "id": "27bc6aa1-6c4b-4ec0-811a-fd72f1c6a636",
      "metadata": {
        "id": "27bc6aa1-6c4b-4ec0-811a-fd72f1c6a636"
      },
      "outputs": [],
      "source": [
        "category_counts = Counter()\n",
        "\n",
        "for file_name in os.listdir(train_label_dir):\n",
        "    if file_name.endswith('.txt'):\n",
        "        with open(os.path.join(train_label_dir, file_name)) as file:\n",
        "            for line in file:\n",
        "                try:\n",
        "                    parts = line.strip().split()\n",
        "                    if len(parts) >= 10:\n",
        "                        category = parts[8].strip()\n",
        "                        category_counts[category] += 1\n",
        "                except Exception as e:\n",
        "                    print(f\"[ERROR] {file_name}: {e}\")\n",
        "\n",
        "# Convert to DataFrame\n",
        "df_counts = pd.DataFrame(category_counts.items(), columns=[\"Category\", \"Count\"])\n",
        "df_counts = df_counts.sort_values(by=\"Count\", ascending=False)"
      ]
    },
    {
      "cell_type": "code",
      "execution_count": 7,
      "id": "AEZwJgeT0N5G",
      "metadata": {
        "colab": {
          "base_uri": "https://localhost:8080/",
          "height": 507
        },
        "id": "AEZwJgeT0N5G",
        "outputId": "b276c46e-3038-48cd-b64f-a1316a83a71f"
      },
      "outputs": [
        {
          "output_type": "display_data",
          "data": {
            "text/plain": [
              "<Figure size 500x500 with 1 Axes>"
            ],
            "image/png": "[encoded data removed]"
          },
          "metadata": {}
        }
      ],
      "source": [
        "# Parameters\n",
        "top_n = 6  # how many categories to show individually\n",
        "colors = plt.cm.tab20.colors  # colorful palette\n",
        "\n",
        "# Group small categories as 'Other'\n",
        "df_counts_top = df_counts.head(top_n).copy()\n",
        "other = df_counts.iloc[top_n:][\"Count\"].sum()\n",
        "df_counts_top.loc[len(df_counts_top)] = [\"Other\", other]\n",
        "\n",
        "# Create labels and data\n",
        "labels = df_counts_top[\"Category\"]\n",
        "sizes = df_counts_top[\"Count\"]\n",
        "\n",
        "# Explode top 3 slightly\n",
        "explode = [0.08 if i < 3 else 0 for i in range(len(sizes))]\n",
        "\n",
        "# Plot\n",
        "plt.figure(figsize=(5, 5))\n",
        "plt.pie(\n",
        "    sizes,\n",
        "    labels=labels,\n",
        "    autopct=\"%1.1f%%\",\n",
        "    startangle=140,\n",
        "    explode=explode,\n",
        "    colors=colors[:len(sizes)],\n",
        "    textprops={'fontsize': 12}\n",
        ")\n",
        "plt.title(\"Object Category Distribution\", fontsize=16)\n",
        "plt.axis(\"equal\")\n",
        "plt.tight_layout()\n",
        "plt.show()"
      ]
    },
    {
      "cell_type": "code",
      "execution_count": 8,
      "id": "VdLJ6wg76NU5",
      "metadata": {
        "id": "VdLJ6wg76NU5"
      },
      "outputs": [],
      "source": [
        "# Initialize counters\n",
        "category_total = defaultdict(int)\n",
        "category_difficult = defaultdict(int)\n",
        "\n",
        "# Parse the zip\n",
        "for file_name in os.listdir(train_label_dir):\n",
        "    if file_name.endswith('.txt'):\n",
        "        with open(os.path.join(train_label_dir, file_name)) as file:\n",
        "            for line in file:\n",
        "                try:\n",
        "                    parts = line.strip().split()\n",
        "                    if len(parts) >= 10:\n",
        "                        category = parts[8].strip()\n",
        "                        difficult = parts[-1].strip()\n",
        "                        category_total[category] += 1\n",
        "                        if difficult == '1':\n",
        "                            category_difficult[category] += 1\n",
        "                except Exception as e:\n",
        "                    print(f\"[ERROR] {file_name}: {e}\")"
      ]
    },
    {
      "cell_type": "code",
      "execution_count": 9,
      "id": "dWTW3HBoI7Yh",
      "metadata": {
        "colab": {
          "base_uri": "https://localhost:8080/",
          "height": 206
        },
        "id": "dWTW3HBoI7Yh",
        "outputId": "3d58b6e4-9b73-4a28-99fb-c4431dad75e0"
      },
      "outputs": [
        {
          "output_type": "execute_result",
          "data": {
            "text/plain": [
              "             Category  Total  Difficult  Difficult %\n",
              "0   soccer-ball-field     52         11    21.153846\n",
              "1       small-vehicle   8154       1369    16.789306\n",
              "2  ground-track-field     19          3    15.789474\n",
              "3    basketball-court    111         12    10.810811\n",
              "4    baseball-diamond     73          3     4.109589"
            ],
            "text/html": [
              "\n",
              "  <div id=\"df-ea03090a-91e7-4fa2-8da3-76cecc109352\" class=\"colab-df-container\">\n",
              "    <div>\n",
              "<style scoped>\n",
              "    .dataframe tbody tr th:only-of-type {\n",
              "        vertical-align: middle;\n",
              "    }\n",
              "\n",
              "    .dataframe tbody tr th {\n",
              "        vertical-align: top;\n",
              "    }\n",
              "\n",
              "    .dataframe thead th {\n",
              "        text-align: right;\n",
              "    }\n",
              "</style>\n",
              "<table border=\"1\" class=\"dataframe\">\n",
              "  <thead>\n",
              "    <tr style=\"text-align: right;\">\n",
              "      <th></th>\n",
              "      <th>Category</th>\n",
              "      <th>Total</th>\n",
              "      <th>Difficult</th>\n",
              "      <th>Difficult %</th>\n",
              "    </tr>\n",
              "  </thead>\n",
              "  <tbody>\n",
              "    <tr>\n",
              "      <th>0</th>\n",
              "      <td>soccer-ball-field</td>\n",
              "      <td>52</td>\n",
              "      <td>11</td>\n",
              "      <td>21.153846</td>\n",
              "    </tr>\n",
              "    <tr>\n",
              "      <th>1</th>\n",
              "      <td>small-vehicle</td>\n",
              "      <td>8154</td>\n",
              "      <td>1369</td>\n",
              "      <td>16.789306</td>\n",
              "    </tr>\n",
              "    <tr>\n",
              "      <th>2</th>\n",
              "      <td>ground-track-field</td>\n",
              "      <td>19</td>\n",
              "      <td>3</td>\n",
              "      <td>15.789474</td>\n",
              "    </tr>\n",
              "    <tr>\n",
              "      <th>3</th>\n",
              "      <td>basketball-court</td>\n",
              "      <td>111</td>\n",
              "      <td>12</td>\n",
              "      <td>10.810811</td>\n",
              "    </tr>\n",
              "    <tr>\n",
              "      <th>4</th>\n",
              "      <td>baseball-diamond</td>\n",
              "      <td>73</td>\n",
              "      <td>3</td>\n",
              "      <td>4.109589</td>\n",
              "    </tr>\n",
              "  </tbody>\n",
              "</table>\n",
              "</div>\n",
              "    <div class=\"colab-df-buttons\">\n",
              "\n",
              "  <div class=\"colab-df-container\">\n",
              "    <button class=\"colab-df-convert\" onclick=\"convertToInteractive('df-ea03090a-91e7-4fa2-8da3-76cecc109352')\"\n",
              "            title=\"Convert this dataframe to an interactive table.\"\n",
              "            style=\"display:none;\">\n",
              "\n",
              "  <svg xmlns=\"http://www.w3.org/2000/svg\" height=\"24px\" viewBox=\"0 -960 960 960\">\n",
              "    <path d=\"M120-120v-720h720v720H120Zm60-500h600v-160H180v160Zm220 220h160v-160H400v160Zm0 220h160v-160H400v160ZM180-400h160v-160H180v160Zm440 0h160v-160H620v160ZM180-180h160v-160H180v160Zm440 0h160v-160H620v160Z\"/>\n",
              "  </svg>\n",
              "    </button>\n",
              "\n",
              "  <style>\n",
              "    .colab-df-container {\n",
              "      display:flex;\n",
              "      gap: 12px;\n",
              "    }\n",
              "\n",
              "    .colab-df-convert {\n",
              "      background-color: #E8F0FE;\n",
              "      border: none;\n",
              "      border-radius: 50%;\n",
              "      cursor: pointer;\n",
              "      display: none;\n",
              "      fill: #1967D2;\n",
              "      height: 32px;\n",
              "      padding: 0 0 0 0;\n",
              "      width: 32px;\n",
              "    }\n",
              "\n",
              "    .colab-df-convert:hover {\n",
              "      background-color: #E2EBFA;\n",
              "      box-shadow: 0px 1px 2px rgba(60, 64, 67, 0.3), 0px 1px 3px 1px rgba(60, 64, 67, 0.15);\n",
              "      fill: #174EA6;\n",
              "    }\n",
              "\n",
              "    .colab-df-buttons div {\n",
              "      margin-bottom: 4px;\n",
              "    }\n",
              "\n",
              "    [theme=dark] .colab-df-convert {\n",
              "      background-color: #3B4455;\n",
              "      fill: #D2E3FC;\n",
              "    }\n",
              "\n",
              "    [theme=dark] .colab-df-convert:hover {\n",
              "      background-color: #434B5C;\n",
              "      box-shadow: 0px 1px 3px 1px rgba(0, 0, 0, 0.15);\n",
              "      filter: drop-shadow(0px 1px 2px rgba(0, 0, 0, 0.3));\n",
              "      fill: #FFFFFF;\n",
              "    }\n",
              "  </style>\n",
              "\n",
              "    <script>\n",
              "      const buttonEl =\n",
              "        document.querySelector('#df-ea03090a-91e7-4fa2-8da3-76cecc109352 button.colab-df-convert');\n",
              "      buttonEl.style.display =\n",
              "        google.colab.kernel.accessAllowed ? 'block' : 'none';\n",
              "\n",
              "      async function convertToInteractive(key) {\n",
              "        const element = document.querySelector('#df-ea03090a-91e7-4fa2-8da3-76cecc109352');\n",
              "        const dataTable =\n",
              "          await google.colab.kernel.invokeFunction('convertToInteractive',\n",
              "                                                    [key], {});\n",
              "        if (!dataTable) return;\n",
              "\n",
              "        const docLinkHtml = 'Like what you see? Visit the ' +\n",
              "          '<a target=\"_blank\" href=https://colab.research.google.com/notebooks/data_table.ipynb>data table notebook</a>'\n",
              "          + ' to learn more about interactive tables.';\n",
              "        element.innerHTML = '';\n",
              "        dataTable['output_type'] = 'display_data';\n",
              "        await google.colab.output.renderOutput(dataTable, element);\n",
              "        const docLink = document.createElement('div');\n",
              "        docLink.innerHTML = docLinkHtml;\n",
              "        element.appendChild(docLink);\n",
              "      }\n",
              "    </script>\n",
              "  </div>\n",
              "\n",
              "\n",
              "    <div id=\"df-6739facc-02c7-42fa-9d0f-5ab09b03cb11\">\n",
              "      <button class=\"colab-df-quickchart\" onclick=\"quickchart('df-6739facc-02c7-42fa-9d0f-5ab09b03cb11')\"\n",
              "                title=\"Suggest charts\"\n",
              "                style=\"display:none;\">\n",
              "\n",
              "<svg xmlns=\"http://www.w3.org/2000/svg\" height=\"24px\"viewBox=\"0 0 24 24\"\n",
              "     width=\"24px\">\n",
              "    <g>\n",
              "        <path d=\"M19 3H5c-1.1 0-2 .9-2 2v14c0 1.1.9 2 2 2h14c1.1 0 2-.9 2-2V5c0-1.1-.9-2-2-2zM9 17H7v-7h2v7zm4 0h-2V7h2v10zm4 0h-2v-4h2v4z\"/>\n",
              "    </g>\n",
              "</svg>\n",
              "      </button>\n",
              "\n",
              "<style>\n",
              "  .colab-df-quickchart {\n",
              "      --bg-color: #E8F0FE;\n",
              "      --fill-color: #1967D2;\n",
              "      --hover-bg-color: #E2EBFA;\n",
              "      --hover-fill-color: #174EA6;\n",
              "      --disabled-fill-color: #AAA;\n",
              "      --disabled-bg-color: #DDD;\n",
              "  }\n",
              "\n",
              "  [theme=dark] .colab-df-quickchart {\n",
              "      --bg-color: #3B4455;\n",
              "      --fill-color: #D2E3FC;\n",
              "      --hover-bg-color: #434B5C;\n",
              "      --hover-fill-color: #FFFFFF;\n",
              "      --disabled-bg-color: #3B4455;\n",
              "      --disabled-fill-color: #666;\n",
              "  }\n",
              "\n",
              "  .colab-df-quickchart {\n",
              "    background-color: var(--bg-color);\n",
              "    border: none;\n",
              "    border-radius: 50%;\n",
              "    cursor: pointer;\n",
              "    display: none;\n",
              "    fill: var(--fill-color);\n",
              "    height: 32px;\n",
              "    padding: 0;\n",
              "    width: 32px;\n",
              "  }\n",
              "\n",
              "  .colab-df-quickchart:hover {\n",
              "    background-color: var(--hover-bg-color);\n",
              "    box-shadow: 0 1px 2px rgba(60, 64, 67, 0.3), 0 1px 3px 1px rgba(60, 64, 67, 0.15);\n",
              "    fill: var(--button-hover-fill-color);\n",
              "  }\n",
              "\n",
              "  .colab-df-quickchart-complete:disabled,\n",
              "  .colab-df-quickchart-complete:disabled:hover {\n",
              "    background-color: var(--disabled-bg-color);\n",
              "    fill: var(--disabled-fill-color);\n",
              "    box-shadow: none;\n",
              "  }\n",
              "\n",
              "  .colab-df-spinner {\n",
              "    border: 2px solid var(--fill-color);\n",
              "    border-color: transparent;\n",
              "    border-bottom-color: var(--fill-color);\n",
              "    animation:\n",
              "      spin 1s steps(1) infinite;\n",
              "  }\n",
              "\n",
              "  @keyframes spin {\n",
              "    0% {\n",
              "      border-color: transparent;\n",
              "      border-bottom-color: var(--fill-color);\n",
              "      border-left-color: var(--fill-color);\n",
              "    }\n",
              "    20% {\n",
              "      border-color: transparent;\n",
              "      border-left-color: var(--fill-color);\n",
              "      border-top-color: var(--fill-color);\n",
              "    }\n",
              "    30% {\n",
              "      border-color: transparent;\n",
              "      border-left-color: var(--fill-color);\n",
              "      border-top-color: var(--fill-color);\n",
              "      border-right-color: var(--fill-color);\n",
              "    }\n",
              "    40% {\n",
              "      border-color: transparent;\n",
              "      border-right-color: var(--fill-color);\n",
              "      border-top-color: var(--fill-color);\n",
              "    }\n",
              "    60% {\n",
              "      border-color: transparent;\n",
              "      border-right-color: var(--fill-color);\n",
              "    }\n",
              "    80% {\n",
              "      border-color: transparent;\n",
              "      border-right-color: var(--fill-color);\n",
              "      border-bottom-color: var(--fill-color);\n",
              "    }\n",
              "    90% {\n",
              "      border-color: transparent;\n",
              "      border-bottom-color: var(--fill-color);\n",
              "    }\n",
              "  }\n",
              "</style>\n",
              "\n",
              "      <script>\n",
              "        async function quickchart(key) {\n",
              "          const quickchartButtonEl =\n",
              "            document.querySelector('#' + key + ' button');\n",
              "          quickchartButtonEl.disabled = true;  // To prevent multiple clicks.\n",
              "          quickchartButtonEl.classList.add('colab-df-spinner');\n",
              "          try {\n",
              "            const charts = await google.colab.kernel.invokeFunction(\n",
              "                'suggestCharts', [key], {});\n",
              "          } catch (error) {\n",
              "            console.error('Error during call to suggestCharts:', error);\n",
              "          }\n",
              "          quickchartButtonEl.classList.remove('colab-df-spinner');\n",
              "          quickchartButtonEl.classList.add('colab-df-quickchart-complete');\n",
              "        }\n",
              "        (() => {\n",
              "          let quickchartButtonEl =\n",
              "            document.querySelector('#df-6739facc-02c7-42fa-9d0f-5ab09b03cb11 button');\n",
              "          quickchartButtonEl.style.display =\n",
              "            google.colab.kernel.accessAllowed ? 'block' : 'none';\n",
              "        })();\n",
              "      </script>\n",
              "    </div>\n",
              "\n",
              "    </div>\n",
              "  </div>\n"
            ],
            "application/vnd.google.colaboratory.intrinsic+json": {
              "type": "dataframe",
              "variable_name": "df_difficulty",
              "summary": "{\n  \"name\": \"df_difficulty\",\n  \"rows\": 15,\n  \"fields\": [\n    {\n      \"column\": \"Category\",\n      \"properties\": {\n        \"dtype\": \"string\",\n        \"num_unique_values\": 15,\n        \"samples\": [\n          \"tennis-court\",\n          \"swimming-pool\",\n          \"soccer-ball-field\"\n        ],\n        \"semantic_type\": \"\",\n        \"description\": \"\"\n      }\n    },\n    {\n      \"column\": \"Total\",\n      \"properties\": {\n        \"dtype\": \"number\",\n        \"std\": 4600,\n        \"min\": 3,\n        \"max\": 16830,\n        \"num_unique_values\": 15,\n        \"samples\": [\n          1254,\n          1165,\n          52\n        ],\n        \"semantic_type\": \"\",\n        \"description\": \"\"\n      }\n    },\n    {\n      \"column\": \"Difficult\",\n      \"properties\": {\n        \"dtype\": \"number\",\n        \"std\": 348,\n        \"min\": 0,\n        \"max\": 1369,\n        \"num_unique_values\": 13,\n        \"samples\": [\n          113,\n          92,\n          11\n        ],\n        \"semantic_type\": \"\",\n        \"description\": \"\"\n      }\n    },\n    {\n      \"column\": \"Difficult %\",\n      \"properties\": {\n        \"dtype\": \"number\",\n        \"std\": 6.912437485213943,\n        \"min\": 0.0,\n        \"max\": 21.153846153846153,\n        \"num_unique_values\": 14,\n        \"samples\": [\n          1.9138755980861244,\n          0.8583690987124464,\n          21.153846153846153\n        ],\n        \"semantic_type\": \"\",\n        \"description\": \"\"\n      }\n    }\n  ]\n}"
            }
          },
          "metadata": {},
          "execution_count": 9
        }
      ],
      "source": [
        "# Combine into DataFrame\n",
        "df_difficulty = pd.DataFrame({\n",
        "    'Category': category_total.keys(),\n",
        "    'Total': [category_total[c] for c in category_total],\n",
        "    'Difficult': [category_difficult.get(c, 0) for c in category_total]\n",
        "})\n",
        "\n",
        "# Add % column\n",
        "df_difficulty['Difficult %'] = (df_difficulty['Difficult'] / df_difficulty['Total']) * 100\n",
        "\n",
        "# Sort by descending % of difficulty\n",
        "df_difficulty = df_difficulty.sort_values(by='Difficult %', ascending=False)\n",
        "df_difficulty.reset_index(drop=True, inplace=True)\n",
        "df_difficulty.head()"
      ]
    },
    {
      "cell_type": "code",
      "execution_count": 10,
      "id": "h5BNa_MiJ34X",
      "metadata": {
        "colab": {
          "base_uri": "https://localhost:8080/",
          "height": 607
        },
        "id": "h5BNa_MiJ34X",
        "outputId": "806049e0-be38-4656-b23f-dac2f2a399d5"
      },
      "outputs": [
        {
          "output_type": "display_data",
          "data": {
            "text/plain": [
              "<Figure size 1000x600 with 1 Axes>"
            ],
            "image/png": "[encoded data removed]"
          },
          "metadata": {}
        }
      ],
      "source": [
        "# Plotting\n",
        "plt.figure(figsize=(10, 6))\n",
        "bars = plt.barh(df_difficulty['Category'], df_difficulty['Difficult %'], color='tomato')\n",
        "plt.xlabel('% Difficult Annotations', fontsize=12)\n",
        "plt.title('Percentage of Difficult Annotations per Category', fontsize=14)\n",
        "\n",
        "# Add text labels to bars\n",
        "for bar in bars:\n",
        "    width = bar.get_width()\n",
        "    plt.text(width + 0.5, bar.get_y() + bar.get_height() / 2,\n",
        "             f'{width:.1f}%', va='center', fontsize=10)\n",
        "\n",
        "plt.gca().invert_yaxis()  # highest % on top\n",
        "plt.tight_layout()\n",
        "plt.show()"
      ]
    },
    {
      "cell_type": "markdown",
      "id": "XAk2gjNuLOUn",
      "metadata": {
        "id": "XAk2gjNuLOUn"
      },
      "source": [
        "## 2.3 Object Bounding Box Sizes Per Category"
      ]
    },
    {
      "cell_type": "code",
      "execution_count": 11,
      "id": "mzm6HqnfLizn",
      "metadata": {
        "id": "mzm6HqnfLizn"
      },
      "outputs": [],
      "source": [
        "# Shoelace formula for quadrilateral area\n",
        "def polygon_area(x, y):\n",
        "    return 0.5 * abs(sum(x[i] * y[(i + 1) % 4] - x[(i + 1) % 4] * y[i] for i in range(4)))\n",
        "\n",
        "\n",
        "# Collect areas per category\n",
        "category_areas = defaultdict(list)\n",
        "\n",
        "for file_name in os.listdir(train_label_dir):\n",
        "    if file_name.endswith('.txt'):\n",
        "        with open(os.path.join(train_label_dir, file_name)) as file:\n",
        "            for line in file:\n",
        "                try:\n",
        "                    parts = line.strip().split()\n",
        "                    if len(parts) >= 10:\n",
        "                        x_coords = list(map(float, parts[0:8:2]))  # x1, x2, x3, x4\n",
        "                        y_coords = list(map(float, parts[1:8:2]))  # y1, y2, y3, y4\n",
        "                        area = polygon_area(x_coords, y_coords)\n",
        "                        category = parts[8].strip()\n",
        "                        category_areas[category].append(area)\n",
        "                except Exception as e:\n",
        "                    print(f\"[ERROR] {file_name}: {e}\")"
      ]
    },
    {
      "cell_type": "code",
      "execution_count": 12,
      "id": "CIy8a76kQa_F",
      "metadata": {
        "id": "CIy8a76kQa_F"
      },
      "outputs": [],
      "source": [
        "# Flatten into long-form DataFrame\n",
        "records = []\n",
        "for category, areas in category_areas.items():\n",
        "    for area in areas:\n",
        "        records.append({'Category': category, 'Area': area})\n",
        "\n",
        "df_area = pd.DataFrame(records)"
      ]
    },
    {
      "cell_type": "code",
      "execution_count": 13,
      "id": "pI1Y0hsnQe9W",
      "metadata": {
        "colab": {
          "base_uri": "https://localhost:8080/",
          "height": 607
        },
        "id": "pI1Y0hsnQe9W",
        "outputId": "f8392ebc-fc5b-4fb8-90ca-9f2fc4cc9dfb"
      },
      "outputs": [
        {
          "output_type": "display_data",
          "data": {
            "text/plain": [
              "<Figure size 1200x600 with 1 Axes>"
            ],
            "image/png": "[encoded data removed]"
          },
          "metadata": {}
        }
      ],
      "source": [
        "# Plotting\n",
        "plt.figure(figsize=(12, 6))\n",
        "sorted_categories = df_area.groupby(\"Category\")[\"Area\"].median().sort_values(ascending=False).index\n",
        "df_area_sorted = df_area.copy()\n",
        "df_area_sorted[\"Category\"] = pd.Categorical(df_area_sorted[\"Category\"], categories=sorted_categories)\n",
        "\n",
        "plt.boxplot(\n",
        "    [df_area_sorted[df_area_sorted[\"Category\"] == cat][\"Area\"] for cat in sorted_categories],\n",
        "    tick_labels=sorted_categories,\n",
        "    showfliers=False,\n",
        "    vert=False\n",
        ")\n",
        "\n",
        "# Add text labels to bars\n",
        "plt.xlabel(\"Bounding Box Area\")\n",
        "plt.title(\"Object Bounding Box Sizes per Category (Boxplot)\")\n",
        "plt.tight_layout()\n",
        "plt.show()"
      ]
    },
    {
      "cell_type": "markdown",
      "id": "1b92f34dbb08d2e2",
      "metadata": {
        "collapsed": false,
        "id": "1b92f34dbb08d2e2",
        "jupyter": {
          "outputs_hidden": false
        }
      },
      "source": [
        "# 4 Modelling"
      ]
    },
    {
      "cell_type": "markdown",
      "id": "JKK87tR3ppnN",
      "metadata": {
        "id": "JKK87tR3ppnN"
      },
      "source": [
        "# 4.1 DOTA dataset"
      ]
    },
    {
      "cell_type": "code",
      "execution_count": 14,
      "id": "ecb951d85656dffc",
      "metadata": {
        "ExecuteTime": {
          "end_time": "2025-09-17T12:47:00.033699500Z",
          "start_time": "2025-09-17T12:46:59.996917100Z"
        },
        "jupyter": {
          "outputs_hidden": false
        },
        "colab": {
          "base_uri": "https://localhost:8080/"
        },
        "id": "ecb951d85656dffc",
        "outputId": "602d1cf9-7f26-4685-c413-fa3edf912cb2"
      },
      "outputs": [
        {
          "output_type": "stream",
          "name": "stdout",
          "text": [
            "found images: 321\n",
            "found images: 321\n"
          ]
        }
      ],
      "source": [
        "class DotaRawDataset(Dataset):\n",
        "    \"\"\"\n",
        "    Loading DOTA PyTorch Dataset\n",
        "    \"\"\"\n",
        "\n",
        "    def __init__(\n",
        "            self,\n",
        "            image_dir,\n",
        "            label_dir,\n",
        "            transform=None,\n",
        "            joint_transform=None,\n",
        "    ):\n",
        "        self.image_dir = image_dir\n",
        "        self.label_dir = label_dir\n",
        "        self.transform = transform\n",
        "        self.joint_transform = joint_transform\n",
        "        self.image_files = [f for f in os.listdir(image_dir) if f.endswith(('.jpg', '.png', '.tif'))]\n",
        "        self.image_files.sort()\n",
        "        print(\"found images: {}\".format(len(self.image_files)))\n",
        "\n",
        "    def __len__(self):\n",
        "        return len(self.image_files)\n",
        "\n",
        "    def _parse_label_file(self, label_path):\n",
        "        bboxes = []\n",
        "        classes = []\n",
        "        with open(label_path, 'r') as f:\n",
        "            lines = f.readlines()[2:]\n",
        "            for line in lines:\n",
        "                parts = line.strip().split()\n",
        "                if len(parts) < 9:\n",
        "                    continue\n",
        "                points = list(map(float, parts[:8]))\n",
        "                cls = parts[8]\n",
        "                bbox = [(points[i], points[i + 1]) for i in range(0, 8, 2)]\n",
        "                bboxes.append(bbox)\n",
        "                classes.append(cls)\n",
        "        return bboxes, classes\n",
        "\n",
        "    def __getitem__(self, idx):\n",
        "        img_name = self.image_files[idx]\n",
        "        image_path = os.path.join(self.image_dir, img_name)\n",
        "        label_path = os.path.join(self.label_dir, img_name.split('.')[0] + '.txt')\n",
        "        img_bgr = cv2.imread(image_path)\n",
        "        if os.path.exists(label_path):\n",
        "            bboxes, classes = self._parse_label_file(label_path)\n",
        "        else:\n",
        "            bboxes, classes = [], []\n",
        "        return img_bgr, {'boxes': bboxes, 'labels': classes}\n",
        "\n",
        "train_dataset = DotaRawDataset(\n",
        "    image_dir=os.path.join(DATASET_ROOT_DIR, 'train', 'images'),\n",
        "    label_dir=os.path.join(DATASET_ROOT_DIR, 'train', 'labelTxt')\n",
        ")\n",
        "val_dataset = DotaRawDataset(\n",
        "    image_dir=os.path.join(DATASET_ROOT_DIR, 'val', 'images'),\n",
        "    label_dir=os.path.join(DATASET_ROOT_DIR, 'val', 'labelTxt')\n",
        ")"
      ]
    },
    {
      "cell_type": "markdown",
      "id": "d89ce61c3ed9309e",
      "metadata": {
        "collapsed": false,
        "jupyter": {
          "outputs_hidden": false
        },
        "id": "d89ce61c3ed9309e"
      },
      "source": [
        "# 4.2 You Only Look Once Model (YOLO V11)"
      ]
    },
    {
      "cell_type": "markdown",
      "id": "ePuhzrxuumYm",
      "metadata": {
        "id": "ePuhzrxuumYm"
      },
      "source": [
        "### 4.2.1 Define Model"
      ]
    },
    {
      "cell_type": "code",
      "execution_count": 15,
      "id": "f9Xbtaqfppur",
      "metadata": {
        "id": "f9Xbtaqfppur"
      },
      "outputs": [],
      "source": [
        "yolov11 = detector.YoloV11Detector(device=device)"
      ]
    },
    {
      "cell_type": "markdown",
      "id": "wQ52RkYJzYDU",
      "metadata": {
        "id": "wQ52RkYJzYDU"
      },
      "source": [
        "### 4.2.2 Model Evaluation"
      ]
    },
    {
      "cell_type": "code",
      "execution_count": null,
      "id": "JDGzJ_2UyU3J",
      "metadata": {
        "colab": {
          "base_uri": "https://localhost:8080/"
        },
        "id": "JDGzJ_2UyU3J",
        "outputId": "ecc1bbb4-755f-4c6e-e0cc-a7b1163a2c4d"
      },
      "outputs": [
        {
          "output_type": "stream",
          "name": "stdout",
          "text": [
            "processed 3 images."
          ]
        }
      ],
      "source": [
        "val_simple_dir = os.path.join(DATASET_ROOT_DIR, 'val')\n",
        "yolov11_simple_result = yolov11.batch_visual_search(\n",
        "    img_dir=os.path.join(val_simple_dir, 'images'),\n",
        "    result_dir=os.path.join(val_simple_dir, 'base_pred'))\n",
        "\n",
        "val_complex_dir = os.path.join(DATASET_ROOT_DIR, 'val_complex')\n",
        "yolov11_complex_result = yolov11.batch_visual_search(\n",
        "    img_dir=os.path.join(val_complex_dir, 'images'),\n",
        "    result_dir=os.path.join(val_complex_dir, 'base_pred'))"
      ]
    },
    {
      "cell_type": "markdown",
      "id": "0109ef83-9ebc-4d7e-919c-3e9413ec1f1b",
      "metadata": {
        "collapsed": false,
        "id": "0109ef83-9ebc-4d7e-919c-3e9413ec1f1b",
        "jupyter": {
          "outputs_hidden": false
        }
      },
      "source": [
        "# 4.2 MARS Agent\n",
        "\n",
        "### 4.2.1 Model Training"
      ]
    },
    {
      "cell_type": "code",
      "execution_count": null,
      "id": "a6e6bbb4e1185434",
      "metadata": {
        "id": "a6e6bbb4e1185434",
        "scrolled": true
      },
      "outputs": [],
      "source": [
        "episodes = 10\n",
        "log_interval = 5\n",
        "MAX_NUM_EXPLORING_STEP = 20\n",
        "rl_qtable_model = rl_model.RLQtableModel(save=True, load=True)\n",
        "\n",
        "\n",
        "# data for performance figures\n",
        "total_train_rewards = []\n",
        "total_train_vehicles_found = []\n",
        "total_train_avg_episode_steps = []\n",
        "\n",
        "total_val_rewards = []\n",
        "total_val_vehicles_found = []\n",
        "total_val_avg_episode_steps = []\n",
        "\n",
        "mars_agent = agent.MARSAgent(rl_model=rl_qtable_model, device=device)\n",
        "\n",
        "for episode in range(episodes):\n",
        "    episode_train_vehicles_found = 0\n",
        "    episode_train_reward = 0\n",
        "    episode_train_steps = 0\n",
        "    count = 0\n",
        "    start = time.time()\n",
        "    for image, target in train_dataset:\n",
        "        if image is None:\n",
        "            print('empty image at count: {}'.format(count))\n",
        "            continue\n",
        "        count += 1\n",
        "        step, image_reward, obbs = mars_agent.visual_search(image, target, max_step=MAX_NUM_EXPLORING_STEP, learn=True)\n",
        "        # record this round\n",
        "        episode_train_steps += step\n",
        "        episode_train_reward += image_reward\n",
        "        episode_train_vehicles_found += len(obbs)\n",
        "        print(f'\\rprocessed {count + 1} images.', end='', flush=True)\n",
        "    total_train_rewards.append(episode_train_reward / count)\n",
        "    total_train_vehicles_found.append(episode_train_vehicles_found / count)\n",
        "    total_train_avg_episode_steps.append(episode_train_steps / count)\n",
        "\n",
        "    # Valuate\n",
        "    episode_val_vehicles_found = 0\n",
        "    episode_val_reward = 0\n",
        "    episode_val_steps = 0\n",
        "    start = time.time()\n",
        "    count = 0\n",
        "    for image, target in val_dataset:\n",
        "        if image is None:\n",
        "            print('empty val image at count: {}'.format(count))\n",
        "            continue\n",
        "        count += 1\n",
        "        step, image_reward, obbs = mars_agent.visual_search(image, target, max_step=MAX_NUM_EXPLORING_STEP, learn=True)\n",
        "        # record this round\n",
        "        episode_val_steps += step\n",
        "        episode_val_reward += image_reward\n",
        "        episode_val_vehicles_found += len(obbs)\n",
        "        print(f'\\rprocessed {count + 1} images.', end='', flush=True)\n",
        "    total_val_rewards.append(episode_val_reward / count)\n",
        "    total_val_vehicles_found.append(episode_val_vehicles_found / count)\n",
        "    total_val_avg_episode_steps.append(episode_val_steps / count)\n",
        "\n",
        "    # Print logs regularly\n",
        "    print(f\"Episode {episode:4d}/{episodes} | \"\n",
        "          f\"Reward: {episode_train_reward:6.1f} | \"\n",
        "          f\"Vehicles Found: {episode_train_vehicles_found:2d} | \"\n",
        "          f\"Steps: {episode_train_steps}\")\n",
        "    rl_qtable_model.save('qtable-{}.pkl'.format(episode))\n",
        "\n"
      ]
    },
    {
      "cell_type": "code",
      "execution_count": null,
      "id": "7550ff11426e313f",
      "metadata": {
        "id": "7550ff11426e313f",
        "scrolled": true
      },
      "outputs": [],
      "source": [
        "# Draw a chart after training\n",
        "plt.figure(figsize=(12, 10))\n",
        "\n",
        "plt.subplot(2, 2, 1)\n",
        "plt.plot(total_train_vehicles_found, label='Train', alpha=0.3)\n",
        "plt.plot(total_val_vehicles_found, label='Val', alpha=0.3)\n",
        "plt.xlabel('Episode')\n",
        "plt.ylabel('Vehicles Found')\n",
        "plt.title('Performance: Average Vehicles Found by Episode')\n",
        "plt.legend()\n",
        "plt.grid(True)\n",
        "\n",
        "plt.subplot(2, 2, 2)\n",
        "plt.plot(total_train_rewards, label='Train', alpha=0.3)\n",
        "plt.plot(total_val_rewards, label='Val', alpha=0.3)\n",
        "plt.xlabel('Episode')\n",
        "plt.ylabel('Total Reward')\n",
        "plt.title('Performance: Average Reward by Episode')\n",
        "plt.legend()\n",
        "plt.grid(True)\n",
        "\n",
        "plt.subplot(2, 2, 3)\n",
        "plt.plot(total_train_avg_episode_steps, label='Train', alpha=0.3)\n",
        "plt.plot(total_val_avg_episode_steps, label='Val', alpha=0.3)\n",
        "plt.xlabel('Episode')\n",
        "plt.ylabel('Average Steps')\n",
        "plt.title('Performance: Average Steps by Episode')\n",
        "plt.legend()\n",
        "plt.grid(True)\n",
        "total_avg_train_vehicle_found = [v/s for v, s in zip(total_train_vehicles_found, total_train_avg_episode_steps)]\n",
        "total_avg_val_vehicle_found = [v/s for v, s in zip(total_val_vehicles_found, total_val_avg_episode_steps)]\n",
        "plt.subplot(2, 2, 4)\n",
        "plt.plot(total_avg_train_vehicle_found, label='Train', alpha=0.3)\n",
        "plt.plot(total_avg_val_vehicle_found, label='Val', alpha=0.3)\n",
        "plt.xlabel('Episode')\n",
        "plt.ylabel('Vehicle Found per Steps')\n",
        "plt.title('Performance: Average Vehicle Found per Step by Episode')\n",
        "plt.legend()\n",
        "plt.grid(True)\n",
        "\n",
        "plt.tight_layout()\n",
        "plt.savefig('training_metrics.png')\n",
        "plt.show()"
      ]
    },
    {
      "cell_type": "markdown",
      "id": "cf07bd6d-8b3f-4988-a3cc-660c0d4a3445",
      "metadata": {
        "id": "cf07bd6d-8b3f-4988-a3cc-660c0d4a3445"
      },
      "source": [
        "### 4.2.2 Evaluation"
      ]
    },
    {
      "cell_type": "code",
      "execution_count": null,
      "id": "2fd9e778-7bc0-40a6-8d42-c0db6d2f2612",
      "metadata": {
        "id": "2fd9e778-7bc0-40a6-8d42-c0db6d2f2612"
      },
      "outputs": [],
      "source": [
        "mars_simple_results = mars_agent.batch_visual_search(\n",
        "    img_dir=os.path.join(val_simple_dir, 'images'),\n",
        "    result_dir=os.path.join(val_simple_dir, 'agent_pred'))\n",
        "\n",
        "mars_complex_results = mars_agent.batch_visual_search(\n",
        "    img_dir=os.path.join(val_complex_dir, 'images'),\n",
        "    result_dir=os.path.join(val_complex_dir, 'agent_pred'))"
      ]
    },
    {
      "cell_type": "markdown",
      "id": "57bc53d819eb372b",
      "metadata": {
        "collapsed": false,
        "id": "57bc53d819eb372b",
        "jupyter": {
          "outputs_hidden": false
        }
      },
      "source": [
        "# 5 Evaluation\n",
        "## 5.1 Performance Measures\n",
        "\n",
        "Evaluation Metrics, mAP (mean Average Precision) is used to evaluate the performance of both MARS agent and base model (YOLO v11) models.\n",
        "Mars has slightly improved in mAP performance than the BASE model."
      ]
    },
    {
      "cell_type": "markdown",
      "id": "df361682-f7dd-4360-b14d-3916ed2d4d23",
      "metadata": {
        "id": "df361682-f7dd-4360-b14d-3916ed2d4d23"
      },
      "source": [
        "### 5.1.1 Simple datasets"
      ]
    },
    {
      "cell_type": "code",
      "execution_count": null,
      "id": "f9fe9db2-25c4-4dd6-b837-f984a0276953",
      "metadata": {
        "id": "f9fe9db2-25c4-4dd6-b837-f984a0276953"
      },
      "outputs": [],
      "source": [
        "data_validation.run_dota_evaluation(label_dir=val_simple_dir)"
      ]
    },
    {
      "cell_type": "markdown",
      "id": "a6997ed1-e404-4913-aff4-627b406bb35c",
      "metadata": {
        "id": "a6997ed1-e404-4913-aff4-627b406bb35c"
      },
      "source": [
        "### 5.1.2 Complex Images"
      ]
    },
    {
      "cell_type": "code",
      "execution_count": null,
      "id": "2999829f-0a85-4e68-bda3-fb4f30bb60ec",
      "metadata": {
        "id": "2999829f-0a85-4e68-bda3-fb4f30bb60ec"
      },
      "outputs": [],
      "source": [
        "data_validation.run_dota_evaluation(label_dir=val_complex_dir)"
      ]
    },
    {
      "cell_type": "code",
      "execution_count": null,
      "id": "d99ac6f1-f30b-46a3-9b8c-e4c44eb7a248",
      "metadata": {
        "id": "d99ac6f1-f30b-46a3-9b8c-e4c44eb7a248"
      },
      "outputs": [],
      "source": [
        "import app_v1\n",
        "app_v1.demo.launch()"
      ]
    },
    {
      "cell_type": "markdown",
      "id": "54455f58e406850e",
      "metadata": {
        "collapsed": false,
        "id": "54455f58e406850e",
        "jupyter": {
          "outputs_hidden": false
        }
      },
      "source": [
        "# Summary"
      ]
    }
  ],
  "metadata": {
    "accelerator": "GPU",
    "colab": {
      "gpuType": "T4",
      "provenance": []
    },
    "kernelspec": {
      "display_name": "Python 3 (ipykernel)",
      "language": "python",
      "name": "python3"
    },
    "language_info": {
      "codemirror_mode": {
        "name": "ipython",
        "version": 3
      },
      "file_extension": ".py",
      "mimetype": "text/x-python",
      "name": "python",
      "nbconvert_exporter": "python",
      "pygments_lexer": "ipython3",
      "version": "3.11.4"
    }
  },
  "nbformat": 4,
  "nbformat_minor": 5
}